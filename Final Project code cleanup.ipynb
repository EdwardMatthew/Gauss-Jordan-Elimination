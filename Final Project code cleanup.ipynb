{
 "cells": [
  {
   "cell_type": "code",
   "execution_count": 1,
   "id": "18499254",
   "metadata": {},
   "outputs": [],
   "source": [
    "import numpy as np\n",
    "import matplotlib.pyplot as plt\n",
    "import matplotlib.ticker as ticker"
   ]
  },
  {
   "cell_type": "code",
   "execution_count": 2,
   "id": "9afa9484",
   "metadata": {},
   "outputs": [],
   "source": [
    "def gauss_jordan(a, b):\n",
    "    n = len(b)\n",
    "    \n",
    "    # elimination phase\n",
    "    #loops the row of the matrix\n",
    "    for k in range(0, n - 1):\n",
    "        #loops the values in the ith row (column values)\n",
    "        for i in range(k+1, n):\n",
    "            # Making the upper triangle, by altering some of the values in a for loop. the lower part will become 0.\n",
    "            if a[i,k] != 0.0:\n",
    "                lam  = a[i,k]/a[k,k]\n",
    "                a[i,k+1:n] -= lam*a[k,k+1:n]\n",
    "                b[i] = b[i] - lam*b[k]\n",
    "    # back substitution\n",
    "    for k in range(n-1, -1, -1):\n",
    "        b[k] = (b[k] - np.dot(a[k,k+1:n], b[k+1:n]))/a[k,k]\n",
    "    return b"
   ]
  },
  {
   "cell_type": "code",
   "execution_count": 3,
   "id": "9c5924c1",
   "metadata": {},
   "outputs": [],
   "source": [
    "# don't use, arbitrary function\n",
    "def LUdecomp(a):\n",
    "    n = len(a)\n",
    "    for k in range(0,n-1):\n",
    "        for i in range(k+1,n):\n",
    "            if a[i,k] != 0.0:\n",
    "                lam = a [i,k]/a[k,k]\n",
    "                a[i,k+1:n] = a[i,k+1:n] - lam*a[k,k+1:n]\n",
    "                a[i,k] = lam\n",
    "    return a\n",
    "\n",
    "     \n",
    "def LUsolve(a,b):\n",
    "    a = LUdecomp(a)\n",
    "    n = len(a)\n",
    "    for k in range(1,n):\n",
    "        b[k] = b[k] - np.dot(a[k,0:k],b[0:k])\n",
    "        b[n-1] = b[n-1]/a[n-1,n-1]\n",
    "    for k in range(n-2,-1,-1):\n",
    "        b[k] = (b[k] - np.dot(a[k,k+1:n],b[k+1:n]))/a[k,k]\n",
    "    return b"
   ]
  },
  {
   "cell_type": "code",
   "execution_count": 37,
   "id": "3de77409",
   "metadata": {},
   "outputs": [],
   "source": [
    "def take_values():\n",
    "    dim = int(input(\"Enter the dimension of the matrix here: \"))\n",
    "    lhs = []\n",
    "    rhs = []\n",
    "    for i in range(dim):\n",
    "        lhs.append([])\n",
    "    nums = int(input('Enter the amount of elements per row: '))\n",
    "    for k in range(dim):\n",
    "        for j in range(nums):\n",
    "            val = int(input('Input value(left-right, top-down): '))\n",
    "            lhs[k].append(val)\n",
    "    for l in range(dim):\n",
    "        val = int(input('Input value(left-right, top-down): '))\n",
    "        rhs.append(val)\n",
    "    lhs_input = np.array(lhs,dtype= float)\n",
    "    rhs_input = np.array(rhs,dtype = float)\n",
    "    return lhs_input, rhs_input"
   ]
  },
  {
   "cell_type": "code",
   "execution_count": 44,
   "id": "ecd3f72a",
   "metadata": {},
   "outputs": [],
   "source": [
    "def driver():\n",
    "    lhs, rhs = take_values()\n",
    "    print(\"Please choose the method that you want: \")\n",
    "    print(\"1. Gauss-Jordan elimination \\n2. LU decomposition\")\n",
    "    method_chosen = int(input(\"Enter here: \"))\n",
    "    \n",
    "    # if gauss-jordan is chosen, process matrix with gauss-jordan\n",
    "    if method_chosen == 1:\n",
    "        print(gauss_jordan(lhs, rhs))\n",
    "    if method_chosen == 2:\n",
    "        print(LUsolve(lhs, rhs))"
   ]
  },
  {
   "cell_type": "code",
   "execution_count": 45,
   "id": "ff0f7c52",
   "metadata": {},
   "outputs": [
    {
     "name": "stdout",
     "output_type": "stream",
     "text": [
      "Enter the dimension of the matrix here: 2\n",
      "Enter the amount of elements per row: 2\n",
      "Input value(left-right, top-down): 3\n",
      "Input value(left-right, top-down): -1\n",
      "Input value(left-right, top-down): 2\n",
      "Input value(left-right, top-down): 1\n",
      "Input value(left-right, top-down): 7\n",
      "Input value(left-right, top-down): 8\n",
      "Please choose the method that you want: \n",
      "1. Gauss-Jordan elimination \n",
      "2. LU decomposition\n",
      "Enter here: 2\n",
      "[3. 2.]\n"
     ]
    }
   ],
   "source": [
    "driver()"
   ]
  },
  {
   "cell_type": "code",
   "execution_count": null,
   "id": "382d7959",
   "metadata": {},
   "outputs": [],
   "source": []
  }
 ],
 "metadata": {
  "kernelspec": {
   "display_name": "Python 3",
   "language": "python",
   "name": "python3"
  },
  "language_info": {
   "codemirror_mode": {
    "name": "ipython",
    "version": 3
   },
   "file_extension": ".py",
   "mimetype": "text/x-python",
   "name": "python",
   "nbconvert_exporter": "python",
   "pygments_lexer": "ipython3",
   "version": "3.8.8"
  }
 },
 "nbformat": 4,
 "nbformat_minor": 5
}
