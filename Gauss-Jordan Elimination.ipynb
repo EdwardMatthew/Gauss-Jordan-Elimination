{
 "cells": [
  {
   "cell_type": "code",
   "execution_count": 2,
   "id": "9022ff9c",
   "metadata": {},
   "outputs": [],
   "source": [
    "import numpy as np"
   ]
  },
  {
   "cell_type": "code",
   "execution_count": 21,
   "id": "c990e753",
   "metadata": {},
   "outputs": [],
   "source": [
    "# gauss-jordan method\n",
    "def gauss_jordan(a, b):\n",
    "    n = len(b)\n",
    "    \n",
    "    # elimination phase\n",
    "    for k in range(0, n - 1):\n",
    "        for i in range(k+1, n):\n",
    "            if a[i,k] != 0.0:\n",
    "                lam  = a[i,k]/a[k,k]\n",
    "                a[i,k+1:n] -= lam*a[k,k+1:n]\n",
    "                b[i] = b[i] - lam*b[k]\n",
    "    # back substitution\n",
    "    for k in range(n-1, -1, -1):\n",
    "        b[k] = (b[k] - np.dot(a[k,k+1:n], b[k+1:n]))/a[k,k]\n",
    "    return b"
   ]
  },
  {
   "cell_type": "code",
   "execution_count": 23,
   "id": "100770d1",
   "metadata": {},
   "outputs": [
    {
     "name": "stdout",
     "output_type": "stream",
     "text": [
      "[[3.]\n",
      " [2.]]\n"
     ]
    }
   ],
   "source": [
    "a = np.array([[3,-1],[2,1]], dtype = float)\n",
    "b = np.array([[7],[8]], dtype = float)\n",
    "x = gauss_jordan(a, b)\n",
    "print(x)"
   ]
  },
  {
   "cell_type": "code",
   "execution_count": null,
   "id": "5ef2dc61",
   "metadata": {},
   "outputs": [],
   "source": []
  }
 ],
 "metadata": {
  "kernelspec": {
   "display_name": "Python 3",
   "language": "python",
   "name": "python3"
  },
  "language_info": {
   "codemirror_mode": {
    "name": "ipython",
    "version": 3
   },
   "file_extension": ".py",
   "mimetype": "text/x-python",
   "name": "python",
   "nbconvert_exporter": "python",
   "pygments_lexer": "ipython3",
   "version": "3.8.8"
  }
 },
 "nbformat": 4,
 "nbformat_minor": 5
}
